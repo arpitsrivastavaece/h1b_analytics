{
 "cells": [
  {
   "cell_type": "markdown",
   "metadata": {},
   "source": [
    "# H1-B Status Prediction\n",
    "### Data Source:  https://www.kaggle.com/nsharan/h-1b-visa"
   ]
  },
  {
   "cell_type": "code",
   "execution_count": 80,
   "metadata": {},
   "outputs": [],
   "source": [
    "from pyspark.sql import SparkSession\n",
    "import pandas as pd\n",
    "import numpy as np\n",
    "import matplotlib.pyplot as plt"
   ]
  },
  {
   "cell_type": "code",
   "execution_count": 2,
   "metadata": {},
   "outputs": [],
   "source": [
    "spark = SparkSession.builder.appName('H1B').getOrCreate()"
   ]
  },
  {
   "cell_type": "code",
   "execution_count": 3,
   "metadata": {},
   "outputs": [],
   "source": [
    "df = spark.read.csv('h1b_kaggle.csv',inferSchema=True,header=True)"
   ]
  },
  {
   "cell_type": "code",
   "execution_count": 5,
   "metadata": {},
   "outputs": [
    {
     "name": "stdout",
     "output_type": "stream",
     "text": [
      "+---+-------------------+--------------------+--------------------+--------------------+------------------+---------------+----+--------------------+-----------+----------+\n",
      "|_c0|        CASE_STATUS|       EMPLOYER_NAME|            SOC_NAME|           JOB_TITLE|FULL_TIME_POSITION|PREVAILING_WAGE|YEAR|            WORKSITE|        lon|       lat|\n",
      "+---+-------------------+--------------------+--------------------+--------------------+------------------+---------------+----+--------------------+-----------+----------+\n",
      "|  1|CERTIFIED-WITHDRAWN|UNIVERSITY OF MIC...|BIOCHEMISTS AND B...|POSTDOCTORAL RESE...|                 N|          36067|2016| ANN ARBOR, MICHIGAN|-83.7430378|42.2808256|\n",
      "|  2|CERTIFIED-WITHDRAWN|GOODMAN NETWORKS,...|    CHIEF EXECUTIVES|CHIEF OPERATING O...|                 Y|         242674|2016|        PLANO, TEXAS|-96.6988856|33.0198431|\n",
      "|  3|CERTIFIED-WITHDRAWN|PORTS AMERICA GRO...|    CHIEF EXECUTIVES|CHIEF PROCESS OFF...|                 Y|         193066|2016|JERSEY CITY, NEW ...|-74.0776417|40.7281575|\n",
      "|  4|CERTIFIED-WITHDRAWN|GATES CORPORATION...|    CHIEF EXECUTIVES|REGIONAL PRESIDEN...|                 Y|         220314|2016|    DENVER, COLORADO|-104.990251|39.7392358|\n",
      "|  5|          WITHDRAWN|PEABODY INVESTMEN...|    CHIEF EXECUTIVES|PRESIDENT MONGOLI...|                 Y|       157518.4|2016| ST. LOUIS, MISSOURI|-90.1994042|38.6270025|\n",
      "+---+-------------------+--------------------+--------------------+--------------------+------------------+---------------+----+--------------------+-----------+----------+\n",
      "only showing top 5 rows\n",
      "\n"
     ]
    }
   ],
   "source": [
    "df.show(5)"
   ]
  },
  {
   "cell_type": "code",
   "execution_count": 6,
   "metadata": {},
   "outputs": [
    {
     "data": {
      "text/plain": [
       "[('_c0', 'int'),\n",
       " ('CASE_STATUS', 'string'),\n",
       " ('EMPLOYER_NAME', 'string'),\n",
       " ('SOC_NAME', 'string'),\n",
       " ('JOB_TITLE', 'string'),\n",
       " ('FULL_TIME_POSITION', 'string'),\n",
       " ('PREVAILING_WAGE', 'string'),\n",
       " ('YEAR', 'string'),\n",
       " ('WORKSITE', 'string'),\n",
       " ('lon', 'string'),\n",
       " ('lat', 'string')]"
      ]
     },
     "execution_count": 6,
     "metadata": {},
     "output_type": "execute_result"
    }
   ],
   "source": [
    "df.dtypes"
   ]
  },
  {
   "cell_type": "code",
   "execution_count": 7,
   "metadata": {},
   "outputs": [
    {
     "data": {
      "text/plain": [
       "3002458"
      ]
     },
     "execution_count": 7,
     "metadata": {},
     "output_type": "execute_result"
    }
   ],
   "source": [
    "df.count()"
   ]
  },
  {
   "cell_type": "code",
   "execution_count": 158,
   "metadata": {},
   "outputs": [
    {
     "name": "stdout",
     "output_type": "stream",
     "text": [
      "+--------------------+-------+\n",
      "|         CASE_STATUS|  count|\n",
      "+--------------------+-------+\n",
      "|                  NA|     13|\n",
      "|           CERTIFIED|2615623|\n",
      "| CERTIFIED-WITHDRAWN| 202659|\n",
      "|         INVALIDATED|      1|\n",
      "|PENDING QUALITY A...|     15|\n",
      "|            REJECTED|      2|\n",
      "|           WITHDRAWN|  89799|\n",
      "|              DENIED|  94346|\n",
      "+--------------------+-------+\n",
      "\n"
     ]
    }
   ],
   "source": [
    "df.groupby('CASE_STATUS').count().show()"
   ]
  },
  {
   "cell_type": "markdown",
   "metadata": {},
   "source": [
    "### Drop Duplicates"
   ]
  },
  {
   "cell_type": "code",
   "execution_count": 8,
   "metadata": {},
   "outputs": [],
   "source": [
    "df=df.drop_duplicates()"
   ]
  },
  {
   "cell_type": "code",
   "execution_count": 9,
   "metadata": {},
   "outputs": [
    {
     "data": {
      "text/html": [
       "<div>\n",
       "<style scoped>\n",
       "    .dataframe tbody tr th:only-of-type {\n",
       "        vertical-align: middle;\n",
       "    }\n",
       "\n",
       "    .dataframe tbody tr th {\n",
       "        vertical-align: top;\n",
       "    }\n",
       "\n",
       "    .dataframe thead th {\n",
       "        text-align: right;\n",
       "    }\n",
       "</style>\n",
       "<table border=\"1\" class=\"dataframe\">\n",
       "  <thead>\n",
       "    <tr style=\"text-align: right;\">\n",
       "      <th></th>\n",
       "      <th>_c0</th>\n",
       "      <th>CASE_STATUS</th>\n",
       "      <th>EMPLOYER_NAME</th>\n",
       "      <th>SOC_NAME</th>\n",
       "      <th>JOB_TITLE</th>\n",
       "      <th>FULL_TIME_POSITION</th>\n",
       "      <th>PREVAILING_WAGE</th>\n",
       "      <th>YEAR</th>\n",
       "      <th>WORKSITE</th>\n",
       "      <th>lon</th>\n",
       "      <th>lat</th>\n",
       "    </tr>\n",
       "  </thead>\n",
       "  <tbody>\n",
       "    <tr>\n",
       "      <th>0</th>\n",
       "      <td>0</td>\n",
       "      <td>0</td>\n",
       "      <td>0</td>\n",
       "      <td>0</td>\n",
       "      <td>0</td>\n",
       "      <td>0</td>\n",
       "      <td>0</td>\n",
       "      <td>0</td>\n",
       "      <td>0</td>\n",
       "      <td>0</td>\n",
       "      <td>7</td>\n",
       "    </tr>\n",
       "  </tbody>\n",
       "</table>\n",
       "</div>"
      ],
      "text/plain": [
       "   _c0  CASE_STATUS  EMPLOYER_NAME  SOC_NAME  JOB_TITLE  FULL_TIME_POSITION  \\\n",
       "0    0            0              0         0          0                   0   \n",
       "\n",
       "   PREVAILING_WAGE  YEAR  WORKSITE  lon  lat  \n",
       "0                0     0         0    0    7  "
      ]
     },
     "execution_count": 9,
     "metadata": {},
     "output_type": "execute_result"
    }
   ],
   "source": [
    "from pyspark.sql.functions import col,sum\n",
    "df.select(*(sum(col(c).isNull().cast(\"int\")).alias(c) for c in df.columns)).toPandas()"
   ]
  },
  {
   "cell_type": "code",
   "execution_count": 11,
   "metadata": {},
   "outputs": [],
   "source": [
    "df=df.sample(0.001,seed=100)"
   ]
  },
  {
   "cell_type": "code",
   "execution_count": 12,
   "metadata": {},
   "outputs": [
    {
     "data": {
      "text/plain": [
       "2977"
      ]
     },
     "execution_count": 12,
     "metadata": {},
     "output_type": "execute_result"
    }
   ],
   "source": [
    "df.count()"
   ]
  },
  {
   "cell_type": "code",
   "execution_count": 152,
   "metadata": {},
   "outputs": [
    {
     "data": {
      "text/html": [
       "<div>\n",
       "<style scoped>\n",
       "    .dataframe tbody tr th:only-of-type {\n",
       "        vertical-align: middle;\n",
       "    }\n",
       "\n",
       "    .dataframe tbody tr th {\n",
       "        vertical-align: top;\n",
       "    }\n",
       "\n",
       "    .dataframe thead th {\n",
       "        text-align: right;\n",
       "    }\n",
       "</style>\n",
       "<table border=\"1\" class=\"dataframe\">\n",
       "  <thead>\n",
       "    <tr style=\"text-align: right;\">\n",
       "      <th></th>\n",
       "      <th>_c0</th>\n",
       "      <th>CASE_STATUS</th>\n",
       "      <th>EMPLOYER_NAME</th>\n",
       "      <th>SOC_NAME</th>\n",
       "      <th>JOB_TITLE</th>\n",
       "      <th>FULL_TIME_POSITION</th>\n",
       "      <th>PREVAILING_WAGE</th>\n",
       "      <th>YEAR</th>\n",
       "      <th>WORKSITE</th>\n",
       "      <th>lon</th>\n",
       "      <th>lat</th>\n",
       "    </tr>\n",
       "  </thead>\n",
       "  <tbody>\n",
       "    <tr>\n",
       "      <th>0</th>\n",
       "      <td>0</td>\n",
       "      <td>0</td>\n",
       "      <td>0</td>\n",
       "      <td>0</td>\n",
       "      <td>0</td>\n",
       "      <td>0</td>\n",
       "      <td>0</td>\n",
       "      <td>0</td>\n",
       "      <td>0</td>\n",
       "      <td>0</td>\n",
       "      <td>0</td>\n",
       "    </tr>\n",
       "  </tbody>\n",
       "</table>\n",
       "</div>"
      ],
      "text/plain": [
       "   _c0  CASE_STATUS  EMPLOYER_NAME  SOC_NAME  JOB_TITLE  FULL_TIME_POSITION  \\\n",
       "0    0            0              0         0          0                   0   \n",
       "\n",
       "   PREVAILING_WAGE  YEAR  WORKSITE  lon  lat  \n",
       "0                0     0         0    0    0  "
      ]
     },
     "execution_count": 152,
     "metadata": {},
     "output_type": "execute_result"
    }
   ],
   "source": [
    "from pyspark.sql.functions import col,sum\n",
    "df.select(*(sum(col(c).isNull().cast(\"int\")).alias(c) for c in df.columns)).toPandas()"
   ]
  },
  {
   "cell_type": "code",
   "execution_count": 13,
   "metadata": {},
   "outputs": [],
   "source": [
    "dfp=df.toPandas()"
   ]
  },
  {
   "cell_type": "code",
   "execution_count": 14,
   "metadata": {},
   "outputs": [
    {
     "data": {
      "text/html": [
       "<div>\n",
       "<style scoped>\n",
       "    .dataframe tbody tr th:only-of-type {\n",
       "        vertical-align: middle;\n",
       "    }\n",
       "\n",
       "    .dataframe tbody tr th {\n",
       "        vertical-align: top;\n",
       "    }\n",
       "\n",
       "    .dataframe thead th {\n",
       "        text-align: right;\n",
       "    }\n",
       "</style>\n",
       "<table border=\"1\" class=\"dataframe\">\n",
       "  <thead>\n",
       "    <tr style=\"text-align: right;\">\n",
       "      <th></th>\n",
       "      <th>_c0</th>\n",
       "      <th>CASE_STATUS</th>\n",
       "      <th>EMPLOYER_NAME</th>\n",
       "      <th>SOC_NAME</th>\n",
       "      <th>JOB_TITLE</th>\n",
       "      <th>FULL_TIME_POSITION</th>\n",
       "      <th>PREVAILING_WAGE</th>\n",
       "      <th>YEAR</th>\n",
       "      <th>WORKSITE</th>\n",
       "      <th>lon</th>\n",
       "      <th>lat</th>\n",
       "    </tr>\n",
       "  </thead>\n",
       "  <tbody>\n",
       "    <tr>\n",
       "      <th>0</th>\n",
       "      <td>274023</td>\n",
       "      <td>CERTIFIED</td>\n",
       "      <td>IVS CONSULTING,INC</td>\n",
       "      <td>COMPUTER PROGRAMMERS</td>\n",
       "      <td>COMPUTER PROGRAMMER</td>\n",
       "      <td>N</td>\n",
       "      <td>56638</td>\n",
       "      <td>2016</td>\n",
       "      <td>RARITAN, NEW JERSEY</td>\n",
       "      <td>-74.6329363</td>\n",
       "      <td>40.5695474</td>\n",
       "    </tr>\n",
       "    <tr>\n",
       "      <th>1</th>\n",
       "      <td>89878</td>\n",
       "      <td>WITHDRAWN</td>\n",
       "      <td>E-DATA EXPERTS INC</td>\n",
       "      <td>COMPUTER SYSTEMS ANALYSTS</td>\n",
       "      <td>COMPUTER SYSTEMS ANALYST</td>\n",
       "      <td>Y</td>\n",
       "      <td>77147</td>\n",
       "      <td>2016</td>\n",
       "      <td>PLEASANTON, CALIFORNIA</td>\n",
       "      <td>-121.8746789</td>\n",
       "      <td>37.6624312</td>\n",
       "    </tr>\n",
       "    <tr>\n",
       "      <th>2</th>\n",
       "      <td>571969</td>\n",
       "      <td>CERTIFIED</td>\n",
       "      <td>BERKELEY LIGHTS, INC.</td>\n",
       "      <td>BIOCHEMISTS AND BIOPHYSICISTS</td>\n",
       "      <td>SINGLE CELL GENOMICS SCIENTIST</td>\n",
       "      <td>Y</td>\n",
       "      <td>104624</td>\n",
       "      <td>2016</td>\n",
       "      <td>EMERYVILLE, CALIFORNIA</td>\n",
       "      <td>-122.2852473</td>\n",
       "      <td>37.831316</td>\n",
       "    </tr>\n",
       "    <tr>\n",
       "      <th>3</th>\n",
       "      <td>936663</td>\n",
       "      <td>CERTIFIED</td>\n",
       "      <td>LGBS SOFTWARE, INC.</td>\n",
       "      <td>COMPUTER PROGRAMMERS</td>\n",
       "      <td>PROGRAMMER / ANALYST</td>\n",
       "      <td>Y</td>\n",
       "      <td>50294</td>\n",
       "      <td>2015</td>\n",
       "      <td>ENCINITAS, CALIFORNIA</td>\n",
       "      <td>-117.2919818</td>\n",
       "      <td>33.0369867</td>\n",
       "    </tr>\n",
       "    <tr>\n",
       "      <th>4</th>\n",
       "      <td>992918</td>\n",
       "      <td>CERTIFIED</td>\n",
       "      <td>MR INFO TECH LLC.</td>\n",
       "      <td>COMPUTER PROGRAMMERS</td>\n",
       "      <td>PROGRAMMER ANALYST</td>\n",
       "      <td>Y</td>\n",
       "      <td>55370</td>\n",
       "      <td>2015</td>\n",
       "      <td>ALPHARETTA, GEORGIA</td>\n",
       "      <td>-84.2940899</td>\n",
       "      <td>34.0753762</td>\n",
       "    </tr>\n",
       "  </tbody>\n",
       "</table>\n",
       "</div>"
      ],
      "text/plain": [
       "      _c0 CASE_STATUS          EMPLOYER_NAME                       SOC_NAME  \\\n",
       "0  274023   CERTIFIED     IVS CONSULTING,INC           COMPUTER PROGRAMMERS   \n",
       "1   89878   WITHDRAWN     E-DATA EXPERTS INC      COMPUTER SYSTEMS ANALYSTS   \n",
       "2  571969   CERTIFIED  BERKELEY LIGHTS, INC.  BIOCHEMISTS AND BIOPHYSICISTS   \n",
       "3  936663   CERTIFIED    LGBS SOFTWARE, INC.           COMPUTER PROGRAMMERS   \n",
       "4  992918   CERTIFIED      MR INFO TECH LLC.           COMPUTER PROGRAMMERS   \n",
       "\n",
       "                        JOB_TITLE FULL_TIME_POSITION PREVAILING_WAGE  YEAR  \\\n",
       "0             COMPUTER PROGRAMMER                  N           56638  2016   \n",
       "1        COMPUTER SYSTEMS ANALYST                  Y           77147  2016   \n",
       "2  SINGLE CELL GENOMICS SCIENTIST                  Y          104624  2016   \n",
       "3            PROGRAMMER / ANALYST                  Y           50294  2015   \n",
       "4              PROGRAMMER ANALYST                  Y           55370  2015   \n",
       "\n",
       "                 WORKSITE           lon         lat  \n",
       "0     RARITAN, NEW JERSEY   -74.6329363  40.5695474  \n",
       "1  PLEASANTON, CALIFORNIA  -121.8746789  37.6624312  \n",
       "2  EMERYVILLE, CALIFORNIA  -122.2852473   37.831316  \n",
       "3   ENCINITAS, CALIFORNIA  -117.2919818  33.0369867  \n",
       "4     ALPHARETTA, GEORGIA   -84.2940899  34.0753762  "
      ]
     },
     "execution_count": 14,
     "metadata": {},
     "output_type": "execute_result"
    }
   ],
   "source": [
    "dfp.head()"
   ]
  },
  {
   "cell_type": "code",
   "execution_count": 15,
   "metadata": {},
   "outputs": [
    {
     "data": {
      "text/plain": [
       "2016    663\n",
       "2015    616\n",
       "2014    489\n",
       "2013    445\n",
       "2012    394\n",
       "2011    370\n",
       "Name: YEAR, dtype: int64"
      ]
     },
     "execution_count": 15,
     "metadata": {},
     "output_type": "execute_result"
    }
   ],
   "source": [
    "dfp.YEAR.value_counts()"
   ]
  },
  {
   "cell_type": "code",
   "execution_count": 16,
   "metadata": {},
   "outputs": [
    {
     "data": {
      "text/html": [
       "<div>\n",
       "<style scoped>\n",
       "    .dataframe tbody tr th:only-of-type {\n",
       "        vertical-align: middle;\n",
       "    }\n",
       "\n",
       "    .dataframe tbody tr th {\n",
       "        vertical-align: top;\n",
       "    }\n",
       "\n",
       "    .dataframe thead th {\n",
       "        text-align: right;\n",
       "    }\n",
       "</style>\n",
       "<table border=\"1\" class=\"dataframe\">\n",
       "  <thead>\n",
       "    <tr style=\"text-align: right;\">\n",
       "      <th></th>\n",
       "      <th>CASE_STATUS_YEAR</th>\n",
       "      <th>2011</th>\n",
       "      <th>2012</th>\n",
       "      <th>2013</th>\n",
       "      <th>2014</th>\n",
       "      <th>2015</th>\n",
       "      <th>2016</th>\n",
       "    </tr>\n",
       "  </thead>\n",
       "  <tbody>\n",
       "    <tr>\n",
       "      <th>0</th>\n",
       "      <td>CERTIFIED-WITHDRAWN</td>\n",
       "      <td>5</td>\n",
       "      <td>23</td>\n",
       "      <td>52</td>\n",
       "      <td>45</td>\n",
       "      <td>41</td>\n",
       "      <td>46</td>\n",
       "    </tr>\n",
       "    <tr>\n",
       "      <th>1</th>\n",
       "      <td>DENIED</td>\n",
       "      <td>37</td>\n",
       "      <td>24</td>\n",
       "      <td>12</td>\n",
       "      <td>13</td>\n",
       "      <td>10</td>\n",
       "      <td>11</td>\n",
       "    </tr>\n",
       "    <tr>\n",
       "      <th>2</th>\n",
       "      <td>CERTIFIED</td>\n",
       "      <td>320</td>\n",
       "      <td>338</td>\n",
       "      <td>371</td>\n",
       "      <td>421</td>\n",
       "      <td>548</td>\n",
       "      <td>592</td>\n",
       "    </tr>\n",
       "    <tr>\n",
       "      <th>3</th>\n",
       "      <td>WITHDRAWN</td>\n",
       "      <td>8</td>\n",
       "      <td>9</td>\n",
       "      <td>10</td>\n",
       "      <td>10</td>\n",
       "      <td>17</td>\n",
       "      <td>14</td>\n",
       "    </tr>\n",
       "  </tbody>\n",
       "</table>\n",
       "</div>"
      ],
      "text/plain": [
       "      CASE_STATUS_YEAR  2011  2012  2013  2014  2015  2016\n",
       "0  CERTIFIED-WITHDRAWN     5    23    52    45    41    46\n",
       "1               DENIED    37    24    12    13    10    11\n",
       "2            CERTIFIED   320   338   371   421   548   592\n",
       "3            WITHDRAWN     8     9    10    10    17    14"
      ]
     },
     "execution_count": 16,
     "metadata": {},
     "output_type": "execute_result"
    }
   ],
   "source": [
    "df.crosstab('CASE_STATUS','YEAR').toPandas()"
   ]
  },
  {
   "cell_type": "code",
   "execution_count": 17,
   "metadata": {},
   "outputs": [],
   "source": [
    "df.createOrReplaceTempView(\"df\")"
   ]
  },
  {
   "cell_type": "code",
   "execution_count": 18,
   "metadata": {},
   "outputs": [],
   "source": [
    "df=spark.sql(\"select * from df where YEAR not in ('54538')\")"
   ]
  },
  {
   "cell_type": "code",
   "execution_count": 19,
   "metadata": {},
   "outputs": [
    {
     "data": {
      "text/html": [
       "<div>\n",
       "<style scoped>\n",
       "    .dataframe tbody tr th:only-of-type {\n",
       "        vertical-align: middle;\n",
       "    }\n",
       "\n",
       "    .dataframe tbody tr th {\n",
       "        vertical-align: top;\n",
       "    }\n",
       "\n",
       "    .dataframe thead th {\n",
       "        text-align: right;\n",
       "    }\n",
       "</style>\n",
       "<table border=\"1\" class=\"dataframe\">\n",
       "  <thead>\n",
       "    <tr style=\"text-align: right;\">\n",
       "      <th></th>\n",
       "      <th>CASE_STATUS_YEAR</th>\n",
       "      <th>2011</th>\n",
       "      <th>2012</th>\n",
       "      <th>2013</th>\n",
       "      <th>2014</th>\n",
       "      <th>2015</th>\n",
       "      <th>2016</th>\n",
       "    </tr>\n",
       "  </thead>\n",
       "  <tbody>\n",
       "    <tr>\n",
       "      <th>0</th>\n",
       "      <td>CERTIFIED-WITHDRAWN</td>\n",
       "      <td>5</td>\n",
       "      <td>23</td>\n",
       "      <td>52</td>\n",
       "      <td>45</td>\n",
       "      <td>41</td>\n",
       "      <td>46</td>\n",
       "    </tr>\n",
       "    <tr>\n",
       "      <th>1</th>\n",
       "      <td>DENIED</td>\n",
       "      <td>37</td>\n",
       "      <td>24</td>\n",
       "      <td>12</td>\n",
       "      <td>13</td>\n",
       "      <td>10</td>\n",
       "      <td>11</td>\n",
       "    </tr>\n",
       "    <tr>\n",
       "      <th>2</th>\n",
       "      <td>CERTIFIED</td>\n",
       "      <td>320</td>\n",
       "      <td>338</td>\n",
       "      <td>371</td>\n",
       "      <td>421</td>\n",
       "      <td>548</td>\n",
       "      <td>592</td>\n",
       "    </tr>\n",
       "    <tr>\n",
       "      <th>3</th>\n",
       "      <td>WITHDRAWN</td>\n",
       "      <td>8</td>\n",
       "      <td>9</td>\n",
       "      <td>10</td>\n",
       "      <td>10</td>\n",
       "      <td>17</td>\n",
       "      <td>14</td>\n",
       "    </tr>\n",
       "  </tbody>\n",
       "</table>\n",
       "</div>"
      ],
      "text/plain": [
       "      CASE_STATUS_YEAR  2011  2012  2013  2014  2015  2016\n",
       "0  CERTIFIED-WITHDRAWN     5    23    52    45    41    46\n",
       "1               DENIED    37    24    12    13    10    11\n",
       "2            CERTIFIED   320   338   371   421   548   592\n",
       "3            WITHDRAWN     8     9    10    10    17    14"
      ]
     },
     "execution_count": 19,
     "metadata": {},
     "output_type": "execute_result"
    }
   ],
   "source": [
    "df.crosstab('CASE_STATUS','YEAR').toPandas()"
   ]
  },
  {
   "cell_type": "code",
   "execution_count": 20,
   "metadata": {},
   "outputs": [],
   "source": [
    "#dfp.plot(x='YEAR',kind='bar')"
   ]
  },
  {
   "cell_type": "code",
   "execution_count": 21,
   "metadata": {},
   "outputs": [
    {
     "data": {
      "text/plain": [
       "CERTIFIED              2590\n",
       "CERTIFIED-WITHDRAWN     212\n",
       "DENIED                  107\n",
       "WITHDRAWN                68\n",
       "Name: CASE_STATUS, dtype: int64"
      ]
     },
     "execution_count": 21,
     "metadata": {},
     "output_type": "execute_result"
    }
   ],
   "source": [
    "dfp.CASE_STATUS.value_counts()"
   ]
  },
  {
   "cell_type": "code",
   "execution_count": 153,
   "metadata": {},
   "outputs": [
    {
     "data": {
      "text/plain": [
       "_c0                   0\n",
       "CASE_STATUS           0\n",
       "EMPLOYER_NAME         0\n",
       "SOC_NAME              0\n",
       "JOB_TITLE             0\n",
       "FULL_TIME_POSITION    0\n",
       "PREVAILING_WAGE       0\n",
       "YEAR                  0\n",
       "WORKSITE              0\n",
       "lon                   0\n",
       "lat                   0\n",
       "dtype: int64"
      ]
     },
     "execution_count": 153,
     "metadata": {},
     "output_type": "execute_result"
    }
   ],
   "source": [
    "dfp.isnull().sum()"
   ]
  },
  {
   "cell_type": "markdown",
   "metadata": {},
   "source": [
    "------------------------------------------------------------------------------------------------------------------------------"
   ]
  },
  {
   "cell_type": "markdown",
   "metadata": {},
   "source": [
    "##### Data pre-processing"
   ]
  },
  {
   "cell_type": "code",
   "execution_count": 23,
   "metadata": {},
   "outputs": [],
   "source": [
    "data=df"
   ]
  },
  {
   "cell_type": "code",
   "execution_count": 24,
   "metadata": {},
   "outputs": [
    {
     "name": "stdout",
     "output_type": "stream",
     "text": [
      "+-------+-------------------+--------------------+--------------------+--------------------+------------------+---------------+----+--------------------+------------+----------+\n",
      "|    _c0|        CASE_STATUS|       EMPLOYER_NAME|            SOC_NAME|           JOB_TITLE|FULL_TIME_POSITION|PREVAILING_WAGE|YEAR|            WORKSITE|         lon|       lat|\n",
      "+-------+-------------------+--------------------+--------------------+--------------------+------------------+---------------+----+--------------------+------------+----------+\n",
      "| 274023|          CERTIFIED|  IVS CONSULTING,INC|COMPUTER PROGRAMMERS| COMPUTER PROGRAMMER|                 N|          56638|2016| RARITAN, NEW JERSEY| -74.6329363|40.5695474|\n",
      "|  89878|          WITHDRAWN|  E-DATA EXPERTS INC|COMPUTER SYSTEMS ...|COMPUTER SYSTEMS ...|                 Y|          77147|2016|PLEASANTON, CALIF...|-121.8746789|37.6624312|\n",
      "| 571969|          CERTIFIED|BERKELEY LIGHTS, ...|BIOCHEMISTS AND B...|SINGLE CELL GENOM...|                 Y|         104624|2016|EMERYVILLE, CALIF...|-122.2852473| 37.831316|\n",
      "| 936663|          CERTIFIED| LGBS SOFTWARE, INC.|COMPUTER PROGRAMMERS|PROGRAMMER / ANALYST|                 Y|          50294|2015|ENCINITAS, CALIFO...|-117.2919818|33.0369867|\n",
      "| 992918|          CERTIFIED|   MR INFO TECH LLC.|COMPUTER PROGRAMMERS|  PROGRAMMER ANALYST|                 Y|          55370|2015| ALPHARETTA, GEORGIA| -84.2940899|34.0753762|\n",
      "|1515987|          CERTIFIED|NYCHHC - HARLEM H...|Physicians and Su...|PHYSICIAN IN A PO...|                 Y|          64965|2014|  NEW YORK, NEW YORK| -74.0059413|40.7127837|\n",
      "|1282147|CERTIFIED-WITHDRAWN|HOWARD HUGHES MED...|Life Scientists, ...|  RESEARCH ASSOCIATE|                 Y|          42952|2014|SAN FRANCISCO, CA...|-122.4194155|37.7749295|\n",
      "|1637182|          CERTIFIED|GRAPNEL TECH SERV...| Management Analysts|SR. BUSINESS ANALYST|                 Y|          58011|2014|  NEW YORK, NEW YORK| -74.0059413|40.7127837|\n",
      "|1749117|          CERTIFIED|BAHA INDUSTRIES C...|Software Develope...|SR. SOFTWARE ENGI...|                 Y|         129355|2014|  NEW YORK, NEW YORK| -74.0059413|40.7127837|\n",
      "|1925042|          CERTIFIED|          AMGEN INC.|          Economists|HEALTH ECONOMICS ...|                 Y|          61173|2013|THOUSAND OAKS, CA...|-118.8375937|34.1705609|\n",
      "|2080883|          CERTIFIED|THE GOULD MEDICAL...|Physicians and Su...|HOSPITALIST (INTE...|                 Y|         194355|2013|STOCKTON, CALIFORNIA|-121.2907796|37.9577016|\n",
      "|2171421|          CERTIFIED|          EMTEC,INC.|Computer Programmers|      JAVA DEVELOPER|                 Y|          51813|2013| PLYMOUTH, MINNESOTA| -93.4555093|45.0105194|\n",
      "|2106617|          CERTIFIED|   MEDIATEK USA INC.|Electronics Engin...|MEMBER OF TECHNIC...|                 Y|         102731|2013|SAN JOSE, CALIFORNIA|-121.8863286|37.3382082|\n",
      "|2584449|          CERTIFIED|QUALCOMM INCORPOR...|Software Develope...|SENIOR SOFTWARE E...|                 Y|        88275.2|2012|SAN DIEGO, CALIFO...|-117.1610838| 32.715738|\n",
      "|  89153|          CERTIFIED|CIMPRESS USA, INC...|COMPUTER SYSTEMS ...|SAP BUSINESS ANALYST|                 Y|          73715|2016|WALTHAM, MASSACHU...| -71.2356113|42.3764852|\n",
      "|1261433|          CERTIFIED|   MOMENTUM-NA, INC.|MARKET RESEARCH A...|    BRAND STRATEGIST|                 Y|          90792|2015|  NEW YORK, NEW YORK| -74.0059413|40.7127837|\n",
      "|1486483|          CERTIFIED|DELOITTE CONSULTI...|Computer Systems ...|          CONSULTANT|                 Y|          60653|2014|PHILADELPHIA, PEN...| -75.1652215|39.9525839|\n",
      "|1456254|          CERTIFIED|      FORTYTWO, INC.|Software Develope...|   SOFTWARE ENGINEER|                 Y|          98675|2014|MOUNTAIN VIEW, CA...|-122.0838511|37.3860517|\n",
      "|1351309|          CERTIFIED| ECLINICALWORKS, LLC|Software Develope...|SR. SOFTWARE DEVE...|                 Y|          81765|2014|WESTBOROUGH, MASS...| -71.6161294|42.2695216|\n",
      "|1778115|          CERTIFIED|HEWITT ASSOCIATES...|  Financial Analysts|   SENIOR CONSULTANT|                 Y|          83907|2014|   CHICAGO, ILLINOIS| -87.6297982|41.8781136|\n",
      "+-------+-------------------+--------------------+--------------------+--------------------+------------------+---------------+----+--------------------+------------+----------+\n",
      "only showing top 20 rows\n",
      "\n"
     ]
    }
   ],
   "source": [
    "data.show()"
   ]
  },
  {
   "cell_type": "markdown",
   "metadata": {},
   "source": [
    "### Convert to binary with only certified and denied"
   ]
  },
  {
   "cell_type": "code",
   "execution_count": 28,
   "metadata": {},
   "outputs": [
    {
     "data": {
      "text/plain": [
       "Index(['_c0', 'CASE_STATUS', 'EMPLOYER_NAME', 'SOC_NAME', 'JOB_TITLE',\n",
       "       'FULL_TIME_POSITION', 'PREVAILING_WAGE', 'YEAR', 'WORKSITE', 'lon',\n",
       "       'lat'],\n",
       "      dtype='object')"
      ]
     },
     "execution_count": 28,
     "metadata": {},
     "output_type": "execute_result"
    }
   ],
   "source": [
    "dfp.columns"
   ]
  },
  {
   "cell_type": "code",
   "execution_count": 29,
   "metadata": {},
   "outputs": [],
   "source": [
    "df_updated=spark.sql(\"select CASE_STATUS,EMPLOYER_NAME,SOC_NAME,JOB_TITLE,FULL_TIME_POSITION,PREVAILING_WAGE,YEAR,WORKSITE,case when CASE_STATUS IN ('INVALIDATED','PENDING QUALITY AND COMPLIANCE REVIEW - UNASSIGNED','REJECTED','DENIED','CERTIFIED-WITHDRAWN','WITHDRAWN','NA') then '0' else '1' end as UPDATED_CASE_STATUS from df\")"
   ]
  },
  {
   "cell_type": "code",
   "execution_count": 118,
   "metadata": {},
   "outputs": [
    {
     "name": "stdout",
     "output_type": "stream",
     "text": [
      "+----+-----+\n",
      "|YEAR|count|\n",
      "+----+-----+\n",
      "|2016|  663|\n",
      "|2012|  394|\n",
      "|2014|  489|\n",
      "|2013|  445|\n",
      "|2011|  370|\n",
      "|2015|  616|\n",
      "+----+-----+\n",
      "\n"
     ]
    }
   ],
   "source": [
    "df_updated.groupby('YEAR').count().show()"
   ]
  },
  {
   "cell_type": "code",
   "execution_count": 31,
   "metadata": {},
   "outputs": [],
   "source": [
    "df_updated=df_updated.drop('CASE_STATUS')"
   ]
  },
  {
   "cell_type": "code",
   "execution_count": 32,
   "metadata": {},
   "outputs": [
    {
     "name": "stdout",
     "output_type": "stream",
     "text": [
      "+--------------------+--------------------+--------------------+------------------+---------------+----+--------------------+-------------------+\n",
      "|       EMPLOYER_NAME|            SOC_NAME|           JOB_TITLE|FULL_TIME_POSITION|PREVAILING_WAGE|YEAR|            WORKSITE|UPDATED_CASE_STATUS|\n",
      "+--------------------+--------------------+--------------------+------------------+---------------+----+--------------------+-------------------+\n",
      "|  IVS CONSULTING,INC|COMPUTER PROGRAMMERS| COMPUTER PROGRAMMER|                 N|          56638|2016| RARITAN, NEW JERSEY|                  1|\n",
      "|  E-DATA EXPERTS INC|COMPUTER SYSTEMS ...|COMPUTER SYSTEMS ...|                 Y|          77147|2016|PLEASANTON, CALIF...|                  0|\n",
      "|BERKELEY LIGHTS, ...|BIOCHEMISTS AND B...|SINGLE CELL GENOM...|                 Y|         104624|2016|EMERYVILLE, CALIF...|                  1|\n",
      "| LGBS SOFTWARE, INC.|COMPUTER PROGRAMMERS|PROGRAMMER / ANALYST|                 Y|          50294|2015|ENCINITAS, CALIFO...|                  1|\n",
      "|   MR INFO TECH LLC.|COMPUTER PROGRAMMERS|  PROGRAMMER ANALYST|                 Y|          55370|2015| ALPHARETTA, GEORGIA|                  1|\n",
      "+--------------------+--------------------+--------------------+------------------+---------------+----+--------------------+-------------------+\n",
      "only showing top 5 rows\n",
      "\n"
     ]
    }
   ],
   "source": [
    "df_updated.show(5)"
   ]
  },
  {
   "cell_type": "code",
   "execution_count": 155,
   "metadata": {},
   "outputs": [
    {
     "name": "stdout",
     "output_type": "stream",
     "text": [
      "+-------------------+-----+\n",
      "|UPDATED_CASE_STATUS|count|\n",
      "+-------------------+-----+\n",
      "|                  0|  387|\n",
      "|                  1| 2590|\n",
      "+-------------------+-----+\n",
      "\n"
     ]
    }
   ],
   "source": [
    "df_updated.groupby('UPDATED_CASE_STATUS').count().show()"
   ]
  },
  {
   "cell_type": "markdown",
   "metadata": {},
   "source": [
    "### Converting final data to Pandas dataframe for further visualization"
   ]
  },
  {
   "cell_type": "code",
   "execution_count": 33,
   "metadata": {},
   "outputs": [],
   "source": [
    "dfpUpdate=df_updated.toPandas()"
   ]
  },
  {
   "cell_type": "code",
   "execution_count": 34,
   "metadata": {},
   "outputs": [
    {
     "data": {
      "text/html": [
       "<div>\n",
       "<style scoped>\n",
       "    .dataframe tbody tr th:only-of-type {\n",
       "        vertical-align: middle;\n",
       "    }\n",
       "\n",
       "    .dataframe tbody tr th {\n",
       "        vertical-align: top;\n",
       "    }\n",
       "\n",
       "    .dataframe thead th {\n",
       "        text-align: right;\n",
       "    }\n",
       "</style>\n",
       "<table border=\"1\" class=\"dataframe\">\n",
       "  <thead>\n",
       "    <tr style=\"text-align: right;\">\n",
       "      <th></th>\n",
       "      <th>EMPLOYER_NAME</th>\n",
       "      <th>SOC_NAME</th>\n",
       "      <th>JOB_TITLE</th>\n",
       "      <th>FULL_TIME_POSITION</th>\n",
       "      <th>PREVAILING_WAGE</th>\n",
       "      <th>YEAR</th>\n",
       "      <th>WORKSITE</th>\n",
       "      <th>UPDATED_CASE_STATUS</th>\n",
       "    </tr>\n",
       "  </thead>\n",
       "  <tbody>\n",
       "    <tr>\n",
       "      <th>0</th>\n",
       "      <td>IVS CONSULTING,INC</td>\n",
       "      <td>COMPUTER PROGRAMMERS</td>\n",
       "      <td>COMPUTER PROGRAMMER</td>\n",
       "      <td>N</td>\n",
       "      <td>56638</td>\n",
       "      <td>2016</td>\n",
       "      <td>RARITAN, NEW JERSEY</td>\n",
       "      <td>1</td>\n",
       "    </tr>\n",
       "    <tr>\n",
       "      <th>1</th>\n",
       "      <td>E-DATA EXPERTS INC</td>\n",
       "      <td>COMPUTER SYSTEMS ANALYSTS</td>\n",
       "      <td>COMPUTER SYSTEMS ANALYST</td>\n",
       "      <td>Y</td>\n",
       "      <td>77147</td>\n",
       "      <td>2016</td>\n",
       "      <td>PLEASANTON, CALIFORNIA</td>\n",
       "      <td>0</td>\n",
       "    </tr>\n",
       "    <tr>\n",
       "      <th>2</th>\n",
       "      <td>BERKELEY LIGHTS, INC.</td>\n",
       "      <td>BIOCHEMISTS AND BIOPHYSICISTS</td>\n",
       "      <td>SINGLE CELL GENOMICS SCIENTIST</td>\n",
       "      <td>Y</td>\n",
       "      <td>104624</td>\n",
       "      <td>2016</td>\n",
       "      <td>EMERYVILLE, CALIFORNIA</td>\n",
       "      <td>1</td>\n",
       "    </tr>\n",
       "    <tr>\n",
       "      <th>3</th>\n",
       "      <td>LGBS SOFTWARE, INC.</td>\n",
       "      <td>COMPUTER PROGRAMMERS</td>\n",
       "      <td>PROGRAMMER / ANALYST</td>\n",
       "      <td>Y</td>\n",
       "      <td>50294</td>\n",
       "      <td>2015</td>\n",
       "      <td>ENCINITAS, CALIFORNIA</td>\n",
       "      <td>1</td>\n",
       "    </tr>\n",
       "    <tr>\n",
       "      <th>4</th>\n",
       "      <td>MR INFO TECH LLC.</td>\n",
       "      <td>COMPUTER PROGRAMMERS</td>\n",
       "      <td>PROGRAMMER ANALYST</td>\n",
       "      <td>Y</td>\n",
       "      <td>55370</td>\n",
       "      <td>2015</td>\n",
       "      <td>ALPHARETTA, GEORGIA</td>\n",
       "      <td>1</td>\n",
       "    </tr>\n",
       "  </tbody>\n",
       "</table>\n",
       "</div>"
      ],
      "text/plain": [
       "           EMPLOYER_NAME                       SOC_NAME  \\\n",
       "0     IVS CONSULTING,INC           COMPUTER PROGRAMMERS   \n",
       "1     E-DATA EXPERTS INC      COMPUTER SYSTEMS ANALYSTS   \n",
       "2  BERKELEY LIGHTS, INC.  BIOCHEMISTS AND BIOPHYSICISTS   \n",
       "3    LGBS SOFTWARE, INC.           COMPUTER PROGRAMMERS   \n",
       "4      MR INFO TECH LLC.           COMPUTER PROGRAMMERS   \n",
       "\n",
       "                        JOB_TITLE FULL_TIME_POSITION PREVAILING_WAGE  YEAR  \\\n",
       "0             COMPUTER PROGRAMMER                  N           56638  2016   \n",
       "1        COMPUTER SYSTEMS ANALYST                  Y           77147  2016   \n",
       "2  SINGLE CELL GENOMICS SCIENTIST                  Y          104624  2016   \n",
       "3            PROGRAMMER / ANALYST                  Y           50294  2015   \n",
       "4              PROGRAMMER ANALYST                  Y           55370  2015   \n",
       "\n",
       "                 WORKSITE UPDATED_CASE_STATUS  \n",
       "0     RARITAN, NEW JERSEY                   1  \n",
       "1  PLEASANTON, CALIFORNIA                   0  \n",
       "2  EMERYVILLE, CALIFORNIA                   1  \n",
       "3   ENCINITAS, CALIFORNIA                   1  \n",
       "4     ALPHARETTA, GEORGIA                   1  "
      ]
     },
     "execution_count": 34,
     "metadata": {},
     "output_type": "execute_result"
    }
   ],
   "source": [
    "dfpUpdate.head(5)"
   ]
  },
  {
   "cell_type": "markdown",
   "metadata": {},
   "source": [
    "### Visualizing the Data"
   ]
  },
  {
   "cell_type": "code",
   "execution_count": 119,
   "metadata": {},
   "outputs": [],
   "source": [
    "yeardist=df_updated.crosstab('YEAR','UPDATED_CASE_STATUS').toPandas()"
   ]
  },
  {
   "cell_type": "code",
   "execution_count": 128,
   "metadata": {},
   "outputs": [],
   "source": [
    "job=df_updated.crosstab('JOB_TITLE','UPDATED_CASE_STATUS').toPandas()"
   ]
  },
  {
   "cell_type": "code",
   "execution_count": 120,
   "metadata": {},
   "outputs": [
    {
     "data": {
      "text/html": [
       "<div>\n",
       "<style scoped>\n",
       "    .dataframe tbody tr th:only-of-type {\n",
       "        vertical-align: middle;\n",
       "    }\n",
       "\n",
       "    .dataframe tbody tr th {\n",
       "        vertical-align: top;\n",
       "    }\n",
       "\n",
       "    .dataframe thead th {\n",
       "        text-align: right;\n",
       "    }\n",
       "</style>\n",
       "<table border=\"1\" class=\"dataframe\">\n",
       "  <thead>\n",
       "    <tr style=\"text-align: right;\">\n",
       "      <th></th>\n",
       "      <th>YEAR_UPDATED_CASE_STATUS</th>\n",
       "      <th>0</th>\n",
       "      <th>1</th>\n",
       "    </tr>\n",
       "  </thead>\n",
       "  <tbody>\n",
       "    <tr>\n",
       "      <th>0</th>\n",
       "      <td>2014</td>\n",
       "      <td>68</td>\n",
       "      <td>421</td>\n",
       "    </tr>\n",
       "    <tr>\n",
       "      <th>1</th>\n",
       "      <td>2013</td>\n",
       "      <td>74</td>\n",
       "      <td>371</td>\n",
       "    </tr>\n",
       "    <tr>\n",
       "      <th>2</th>\n",
       "      <td>2015</td>\n",
       "      <td>68</td>\n",
       "      <td>548</td>\n",
       "    </tr>\n",
       "    <tr>\n",
       "      <th>3</th>\n",
       "      <td>2011</td>\n",
       "      <td>50</td>\n",
       "      <td>320</td>\n",
       "    </tr>\n",
       "    <tr>\n",
       "      <th>4</th>\n",
       "      <td>2012</td>\n",
       "      <td>56</td>\n",
       "      <td>338</td>\n",
       "    </tr>\n",
       "    <tr>\n",
       "      <th>5</th>\n",
       "      <td>2016</td>\n",
       "      <td>71</td>\n",
       "      <td>592</td>\n",
       "    </tr>\n",
       "  </tbody>\n",
       "</table>\n",
       "</div>"
      ],
      "text/plain": [
       "  YEAR_UPDATED_CASE_STATUS   0    1\n",
       "0                     2014  68  421\n",
       "1                     2013  74  371\n",
       "2                     2015  68  548\n",
       "3                     2011  50  320\n",
       "4                     2012  56  338\n",
       "5                     2016  71  592"
      ]
     },
     "execution_count": 120,
     "metadata": {},
     "output_type": "execute_result"
    }
   ],
   "source": [
    "yeardist"
   ]
  },
  {
   "cell_type": "code",
   "execution_count": 122,
   "metadata": {},
   "outputs": [],
   "source": [
    "yeardist=yeardist.sort_values(by=['YEAR_UPDATED_CASE_STATUS'])"
   ]
  },
  {
   "cell_type": "code",
   "execution_count": 123,
   "metadata": {},
   "outputs": [
    {
     "data": {
      "text/html": [
       "<div>\n",
       "<style scoped>\n",
       "    .dataframe tbody tr th:only-of-type {\n",
       "        vertical-align: middle;\n",
       "    }\n",
       "\n",
       "    .dataframe tbody tr th {\n",
       "        vertical-align: top;\n",
       "    }\n",
       "\n",
       "    .dataframe thead th {\n",
       "        text-align: right;\n",
       "    }\n",
       "</style>\n",
       "<table border=\"1\" class=\"dataframe\">\n",
       "  <thead>\n",
       "    <tr style=\"text-align: right;\">\n",
       "      <th></th>\n",
       "      <th>YEAR_UPDATED_CASE_STATUS</th>\n",
       "      <th>0</th>\n",
       "      <th>1</th>\n",
       "    </tr>\n",
       "  </thead>\n",
       "  <tbody>\n",
       "    <tr>\n",
       "      <th>3</th>\n",
       "      <td>2011</td>\n",
       "      <td>50</td>\n",
       "      <td>320</td>\n",
       "    </tr>\n",
       "    <tr>\n",
       "      <th>4</th>\n",
       "      <td>2012</td>\n",
       "      <td>56</td>\n",
       "      <td>338</td>\n",
       "    </tr>\n",
       "    <tr>\n",
       "      <th>1</th>\n",
       "      <td>2013</td>\n",
       "      <td>74</td>\n",
       "      <td>371</td>\n",
       "    </tr>\n",
       "    <tr>\n",
       "      <th>0</th>\n",
       "      <td>2014</td>\n",
       "      <td>68</td>\n",
       "      <td>421</td>\n",
       "    </tr>\n",
       "    <tr>\n",
       "      <th>2</th>\n",
       "      <td>2015</td>\n",
       "      <td>68</td>\n",
       "      <td>548</td>\n",
       "    </tr>\n",
       "    <tr>\n",
       "      <th>5</th>\n",
       "      <td>2016</td>\n",
       "      <td>71</td>\n",
       "      <td>592</td>\n",
       "    </tr>\n",
       "  </tbody>\n",
       "</table>\n",
       "</div>"
      ],
      "text/plain": [
       "  YEAR_UPDATED_CASE_STATUS   0    1\n",
       "3                     2011  50  320\n",
       "4                     2012  56  338\n",
       "1                     2013  74  371\n",
       "0                     2014  68  421\n",
       "2                     2015  68  548\n",
       "5                     2016  71  592"
      ]
     },
     "execution_count": 123,
     "metadata": {},
     "output_type": "execute_result"
    }
   ],
   "source": [
    "yeardist"
   ]
  },
  {
   "cell_type": "code",
   "execution_count": 134,
   "metadata": {},
   "outputs": [
    {
     "data": {
      "text/html": [
       "<div>\n",
       "<style scoped>\n",
       "    .dataframe tbody tr th:only-of-type {\n",
       "        vertical-align: middle;\n",
       "    }\n",
       "\n",
       "    .dataframe tbody tr th {\n",
       "        vertical-align: top;\n",
       "    }\n",
       "\n",
       "    .dataframe thead th {\n",
       "        text-align: right;\n",
       "    }\n",
       "</style>\n",
       "<table border=\"1\" class=\"dataframe\">\n",
       "  <thead>\n",
       "    <tr style=\"text-align: right;\">\n",
       "      <th></th>\n",
       "      <th>JOB_TITLE_UPDATED_CASE_STATUS</th>\n",
       "      <th>0</th>\n",
       "      <th>1</th>\n",
       "    </tr>\n",
       "  </thead>\n",
       "  <tbody>\n",
       "    <tr>\n",
       "      <th>349</th>\n",
       "      <td>PROGRAMMER ANALYST</td>\n",
       "      <td>22</td>\n",
       "      <td>213</td>\n",
       "    </tr>\n",
       "    <tr>\n",
       "      <th>228</th>\n",
       "      <td>SOFTWARE ENGINEER</td>\n",
       "      <td>24</td>\n",
       "      <td>101</td>\n",
       "    </tr>\n",
       "    <tr>\n",
       "      <th>269</th>\n",
       "      <td>COMPUTER PROGRAMMER</td>\n",
       "      <td>10</td>\n",
       "      <td>67</td>\n",
       "    </tr>\n",
       "    <tr>\n",
       "      <th>783</th>\n",
       "      <td>SYSTEMS ANALYST</td>\n",
       "      <td>7</td>\n",
       "      <td>58</td>\n",
       "    </tr>\n",
       "    <tr>\n",
       "      <th>52</th>\n",
       "      <td>SOFTWARE DEVELOPER</td>\n",
       "      <td>6</td>\n",
       "      <td>38</td>\n",
       "    </tr>\n",
       "    <tr>\n",
       "      <th>350</th>\n",
       "      <td>BUSINESS ANALYST</td>\n",
       "      <td>3</td>\n",
       "      <td>35</td>\n",
       "    </tr>\n",
       "    <tr>\n",
       "      <th>1003</th>\n",
       "      <td>COMPUTER SYSTEMS ANALYST</td>\n",
       "      <td>8</td>\n",
       "      <td>33</td>\n",
       "    </tr>\n",
       "    <tr>\n",
       "      <th>824</th>\n",
       "      <td>TECHNOLOGY LEAD - US</td>\n",
       "      <td>0</td>\n",
       "      <td>29</td>\n",
       "    </tr>\n",
       "    <tr>\n",
       "      <th>930</th>\n",
       "      <td>CONSULTANT</td>\n",
       "      <td>0</td>\n",
       "      <td>27</td>\n",
       "    </tr>\n",
       "    <tr>\n",
       "      <th>950</th>\n",
       "      <td>SENIOR CONSULTANT</td>\n",
       "      <td>3</td>\n",
       "      <td>25</td>\n",
       "    </tr>\n",
       "  </tbody>\n",
       "</table>\n",
       "</div>"
      ],
      "text/plain": [
       "     JOB_TITLE_UPDATED_CASE_STATUS   0    1\n",
       "349             PROGRAMMER ANALYST  22  213\n",
       "228              SOFTWARE ENGINEER  24  101\n",
       "269            COMPUTER PROGRAMMER  10   67\n",
       "783                SYSTEMS ANALYST   7   58\n",
       "52              SOFTWARE DEVELOPER   6   38\n",
       "350               BUSINESS ANALYST   3   35\n",
       "1003      COMPUTER SYSTEMS ANALYST   8   33\n",
       "824           TECHNOLOGY LEAD - US   0   29\n",
       "930                     CONSULTANT   0   27\n",
       "950              SENIOR CONSULTANT   3   25"
      ]
     },
     "execution_count": 134,
     "metadata": {},
     "output_type": "execute_result"
    }
   ],
   "source": [
    "job=job.sort_values(by=['1'],ascending=False).head(10)\n",
    "job"
   ]
  },
  {
   "cell_type": "code",
   "execution_count": 151,
   "metadata": {},
   "outputs": [
    {
     "data": {
      "text/plain": [
       "<matplotlib.axes._subplots.AxesSubplot at 0x2cb2fef97b8>"
      ]
     },
     "metadata": {},
     "output_type": "display_data"
    },
    {
     "data": {
      "image/png": "[encoded data removed]",
      "text/plain": [
       "<Figure size 667.44x595.44 with 1 Axes>"
      ]
     },
     "metadata": {},
     "output_type": "display_data"
    }
   ],
   "source": [
    "import seaborn as sns\n",
    "ax=sns.barplot(data=job,x='JOB_TITLE_UPDATED_CASE_STATUS',y='1')\n",
    "rc={'figure.figsize':(9.27,8.27)}\n",
    "sns.set(rc)\n",
    "ax.set_xticklabels(labels=job['JOB_TITLE_UPDATED_CASE_STATUS'],rotation=90)\n",
    "display(ax)"
   ]
  },
  {
   "cell_type": "code",
   "execution_count": 125,
   "metadata": {},
   "outputs": [
    {
     "data": {
      "text/plain": [
       "<matplotlib.axes._subplots.AxesSubplot at 0x2cb2af274a8>"
      ]
     },
     "metadata": {},
     "output_type": "display_data"
    },
    {
     "data": {
      "image/png": "[encoded data removed]",
      "text/plain": [
       "<Figure size 667.44x595.44 with 1 Axes>"
      ]
     },
     "metadata": {},
     "output_type": "display_data"
    }
   ],
   "source": [
    "import seaborn as sns\n",
    "ax=sns.barplot(data=yeardist,x='YEAR_UPDATED_CASE_STATUS',y='1')\n",
    "rc={'figure.figsize':(9.27,8.27)}\n",
    "sns.set(rc)\n",
    "display(ax)"
   ]
  },
  {
   "cell_type": "code",
   "execution_count": 126,
   "metadata": {},
   "outputs": [],
   "source": [
    "dfp_updated=df_updated.toPandas()\n",
    "employer=dfp_updated[dfp_updated['UPDATED_CASE_STATUS']=='1'].EMPLOYER_NAME.value_counts()"
   ]
  },
  {
   "cell_type": "code",
   "execution_count": 147,
   "metadata": {},
   "outputs": [
    {
     "data": {
      "text/plain": [
       "INFOSYS LIMITED                      121\n",
       "TATA CONSULTANCY SERVICES LIMITED     64\n",
       "WIPRO LIMITED                         54\n",
       "DELOITTE CONSULTING LLP               35\n",
       "IBM INDIA PRIVATE LIMITED             26\n",
       "Name: EMPLOYER_NAME, dtype: int64"
      ]
     },
     "execution_count": 147,
     "metadata": {},
     "output_type": "execute_result"
    }
   ],
   "source": [
    "employer.head()"
   ]
  },
  {
   "cell_type": "code",
   "execution_count": 127,
   "metadata": {},
   "outputs": [
    {
     "data": {
      "text/plain": [
       "<matplotlib.axes._subplots.AxesSubplot at 0x2cb2affb198>"
      ]
     },
     "metadata": {},
     "output_type": "display_data"
    },
    {
     "data": {
      "image/png": "[encoded data removed]",
      "text/plain": [
       "<Figure size 576x576 with 1 Axes>"
      ]
     },
     "metadata": {},
     "output_type": "display_data"
    }
   ],
   "source": [
    "ax=employer.head().plot.bar(x=employer.index,y=employer.values,figsize=(8,8))\n",
    "display(ax)"
   ]
  },
  {
   "cell_type": "markdown",
   "metadata": {},
   "source": [
    "### Create a 80-20 train test split"
   ]
  },
  {
   "cell_type": "code",
   "execution_count": 36,
   "metadata": {},
   "outputs": [],
   "source": [
    "train_data,test_data=df_updated.randomSplit([0.8,0.2])"
   ]
  },
  {
   "cell_type": "markdown",
   "metadata": {},
   "source": [
    "------------------------------------------------------------------------------------------------------------------------------"
   ]
  },
  {
   "cell_type": "markdown",
   "metadata": {},
   "source": [
    "### Building the Logistic RegressionClassifier"
   ]
  },
  {
   "cell_type": "code",
   "execution_count": 37,
   "metadata": {},
   "outputs": [],
   "source": [
    "from pyspark.ml.classification import LogisticRegression\n",
    "from pyspark.ml.feature import VectorAssembler,StringIndexer,OneHotEncoderEstimator\n",
    "from pyspark.ml import Pipeline"
   ]
  },
  {
   "cell_type": "code",
   "execution_count": 38,
   "metadata": {},
   "outputs": [
    {
     "data": {
      "text/plain": [
       "[('EMPLOYER_NAME', 'string'),\n",
       " ('SOC_NAME', 'string'),\n",
       " ('JOB_TITLE', 'string'),\n",
       " ('FULL_TIME_POSITION', 'string'),\n",
       " ('PREVAILING_WAGE', 'string'),\n",
       " ('YEAR', 'string'),\n",
       " ('WORKSITE', 'string'),\n",
       " ('UPDATED_CASE_STATUS', 'string')]"
      ]
     },
     "execution_count": 38,
     "metadata": {},
     "output_type": "execute_result"
    }
   ],
   "source": [
    "df_updated.dtypes"
   ]
  },
  {
   "cell_type": "code",
   "execution_count": 39,
   "metadata": {},
   "outputs": [],
   "source": [
    "# Use StringIndexer to convert the categorical columns to hold numerical data\n",
    "\n",
    "employer_name_indexer = StringIndexer(inputCol='EMPLOYER_NAME',outputCol='EMPLOYER_NAME_index',handleInvalid='keep')\n",
    "soc_name_indexer = StringIndexer(inputCol='SOC_NAME',outputCol='SOC_NAME_index',handleInvalid='keep')\n",
    "job_title_indexer = StringIndexer(inputCol='JOB_TITLE',outputCol='JOB_TITLE_index',handleInvalid='keep')\n",
    "full_time_position_indexer = StringIndexer(inputCol='FULL_TIME_POSITION',outputCol='FULL_TIME_POSITION_index',handleInvalid='keep')\n",
    "prevailing_wage_indexer = StringIndexer(inputCol='PREVAILING_WAGE',outputCol='PREVAILING_WAGE_index',handleInvalid='keep')\n",
    "updated_case_status_indexer = StringIndexer(inputCol='UPDATED_CASE_STATUS',outputCol='UPDATED_CASE_STATUS_index',handleInvalid='keep')\n",
    "worksite_indexer = StringIndexer(inputCol='WORKSITE',outputCol='WORKSITE_index',handleInvalid='keep')"
   ]
  },
  {
   "cell_type": "code",
   "execution_count": 40,
   "metadata": {},
   "outputs": [],
   "source": [
    "data_encoder = OneHotEncoderEstimator(inputCols=['EMPLOYER_NAME_index','SOC_NAME_index','JOB_TITLE_index',\n",
    "                                                 'FULL_TIME_POSITION_index','PREVAILING_WAGE_index','WORKSITE_index'],\n",
    "                                      outputCols=['EMPLOYER_NAME_vec','SOC_NAME_vec','JOB_TITLE_vec','FULL_TIME_POSITION_vec',\n",
    "                                                  'PREVAILING_WAGE_vec','WORKSITE_vec'],\n",
    "                                      handleInvalid='keep')"
   ]
  },
  {
   "cell_type": "code",
   "execution_count": 41,
   "metadata": {},
   "outputs": [],
   "source": [
    "# Vector assembler is used to create a vector of input features\n",
    "\n",
    "assembler = VectorAssembler(inputCols=['EMPLOYER_NAME_vec','SOC_NAME_vec','JOB_TITLE_vec','FULL_TIME_POSITION_vec',\n",
    "                                                  'PREVAILING_WAGE_vec','WORKSITE_vec'],outputCol=\"features\")\n"
   ]
  },
  {
   "cell_type": "code",
   "execution_count": 42,
   "metadata": {},
   "outputs": [],
   "source": [
    "lr_model = LogisticRegression(labelCol='UPDATED_CASE_STATUS_index')"
   ]
  },
  {
   "cell_type": "code",
   "execution_count": 43,
   "metadata": {},
   "outputs": [],
   "source": [
    "pipe = Pipeline(stages=[employer_name_indexer,soc_name_indexer,job_title_indexer,full_time_position_indexer,prevailing_wage_indexer,worksite_indexer,updated_case_status_indexer,data_encoder,assembler,lr_model])\n"
   ]
  },
  {
   "cell_type": "code",
   "execution_count": 45,
   "metadata": {},
   "outputs": [],
   "source": [
    "fit_model=pipe.fit(train_data)"
   ]
  },
  {
   "cell_type": "code",
   "execution_count": 46,
   "metadata": {},
   "outputs": [],
   "source": [
    "results = fit_model.transform(test_data)"
   ]
  },
  {
   "cell_type": "code",
   "execution_count": 48,
   "metadata": {},
   "outputs": [
    {
     "name": "stdout",
     "output_type": "stream",
     "text": [
      "+--------------------+--------------------+--------------------+------------------+---------------+----+--------------------+-------------------+-------------------+--------------+---------------+------------------------+---------------------+--------------+-------------------------+----------------+-----------------+-------------------+----------------------+-------------------+-------------------+--------------------+--------------------+--------------------+----------+\n",
      "|       EMPLOYER_NAME|            SOC_NAME|           JOB_TITLE|FULL_TIME_POSITION|PREVAILING_WAGE|YEAR|            WORKSITE|UPDATED_CASE_STATUS|EMPLOYER_NAME_index|SOC_NAME_index|JOB_TITLE_index|FULL_TIME_POSITION_index|PREVAILING_WAGE_index|WORKSITE_index|UPDATED_CASE_STATUS_index|    SOC_NAME_vec|     WORKSITE_vec|PREVAILING_WAGE_vec|FULL_TIME_POSITION_vec|  EMPLOYER_NAME_vec|      JOB_TITLE_vec|            features|       rawPrediction|         probability|prediction|\n",
      "+--------------------+--------------------+--------------------+------------------+---------------+----+--------------------+-------------------+-------------------+--------------+---------------+------------------------+---------------------+--------------+-------------------------+----------------+-----------------+-------------------+----------------------+-------------------+-------------------+--------------------+--------------------+--------------------+----------+\n",
      "|BERKELEY LIGHTS, ...|BIOCHEMISTS AND B...|SINGLE CELL GENOM...|                 Y|         104624|2016|EMERYVILLE, CALIF...|                  1|             1665.0|          64.0|         1183.0|                     0.0|               1690.0|         108.0|                      0.0|(318,[64],[1.0])|(773,[108],[1.0])|(1691,[1690],[1.0])|         (3,[0],[1.0])|(1666,[1665],[1.0])|(1184,[1183],[1.0])|(5635,[1665,1730,...|[29.4499566345492...|[1.0,6.5585816581...|       0.0|\n",
      "|  E-DATA EXPERTS INC|COMPUTER SYSTEMS ...|COMPUTER SYSTEMS ...|                 Y|          77147|2016|PLEASANTON, CALIF...|                  0|             1665.0|           3.0|            5.0|                     0.0|               1690.0|          32.0|                      1.0| (318,[3],[1.0])| (773,[32],[1.0])|(1691,[1690],[1.0])|         (3,[0],[1.0])|(1666,[1665],[1.0])|   (1184,[5],[1.0])|(5635,[1665,1669,...|[52.4239442452408...|[1.0,1.7011973539...|       0.0|\n",
      "|   MEDIATEK USA INC.|Electronics Engin...|MEMBER OF TECHNIC...|                 Y|         102731|2013|SAN JOSE, CALIFORNIA|                  1|             1665.0|          34.0|          392.0|                     0.0|               1690.0|           5.0|                      0.0|(318,[34],[1.0])|  (773,[5],[1.0])|(1691,[1690],[1.0])|         (3,[0],[1.0])|(1666,[1665],[1.0])| (1184,[392],[1.0])|(5635,[1665,1700,...|[44.1403188937656...|[1.0,9.3381851120...|       0.0|\n",
      "|     IBM CORPORATION|Computer Systems ...|TECHNICAL SALES S...|                 Y|          77626|2014|  NEW YORK, NEW YORK|                  1|               11.0|           0.0|         1183.0|                     0.0|                304.0|           0.0|                      0.0| (318,[0],[1.0])|  (773,[0],[1.0])| (1691,[304],[1.0])|         (3,[0],[1.0])|  (1666,[11],[1.0])|(1184,[1183],[1.0])|(5635,[11,1666,31...|[14.7193030726854...|[0.99999554708272...|       0.0|\n",
      "|PEAK6 INVESTMENTS...|Software Develope...|   SOFTWARE ENGINEER|                 Y|          71900|2012|   CHICAGO, ILLINOIS|                  0|             1109.0|           8.0|            1.0|                     0.0|               1690.0|           3.0|                      1.0| (318,[8],[1.0])|  (773,[3],[1.0])|(1691,[1690],[1.0])|         (3,[0],[1.0])|(1666,[1109],[1.0])|   (1184,[1],[1.0])|(5635,[1109,1674,...|[52.1126106881741...|[1.0,6.0273934383...|       0.0|\n",
      "+--------------------+--------------------+--------------------+------------------+---------------+----+--------------------+-------------------+-------------------+--------------+---------------+------------------------+---------------------+--------------+-------------------------+----------------+-----------------+-------------------+----------------------+-------------------+-------------------+--------------------+--------------------+--------------------+----------+\n",
      "only showing top 5 rows\n",
      "\n"
     ]
    }
   ],
   "source": [
    "results.show(5)"
   ]
  },
  {
   "cell_type": "code",
   "execution_count": 49,
   "metadata": {},
   "outputs": [
    {
     "name": "stdout",
     "output_type": "stream",
     "text": [
      "+-------------------------+----------+\n",
      "|UPDATED_CASE_STATUS_index|prediction|\n",
      "+-------------------------+----------+\n",
      "|                      0.0|       0.0|\n",
      "|                      1.0|       0.0|\n",
      "|                      0.0|       0.0|\n",
      "|                      0.0|       0.0|\n",
      "|                      1.0|       0.0|\n",
      "|                      0.0|       0.0|\n",
      "|                      0.0|       0.0|\n",
      "|                      0.0|       0.0|\n",
      "|                      1.0|       0.0|\n",
      "|                      0.0|       0.0|\n",
      "|                      1.0|       0.0|\n",
      "|                      0.0|       0.0|\n",
      "|                      0.0|       0.0|\n",
      "|                      0.0|       0.0|\n",
      "|                      0.0|       0.0|\n",
      "|                      0.0|       0.0|\n",
      "|                      0.0|       0.0|\n",
      "|                      0.0|       0.0|\n",
      "|                      0.0|       0.0|\n",
      "|                      0.0|       0.0|\n",
      "|                      0.0|       0.0|\n",
      "|                      1.0|       1.0|\n",
      "|                      0.0|       0.0|\n",
      "|                      1.0|       0.0|\n",
      "|                      1.0|       0.0|\n",
      "|                      0.0|       0.0|\n",
      "|                      0.0|       0.0|\n",
      "|                      1.0|       0.0|\n",
      "|                      0.0|       0.0|\n",
      "|                      1.0|       0.0|\n",
      "|                      0.0|       0.0|\n",
      "|                      0.0|       0.0|\n",
      "|                      0.0|       0.0|\n",
      "|                      0.0|       0.0|\n",
      "|                      0.0|       0.0|\n",
      "|                      0.0|       1.0|\n",
      "|                      0.0|       0.0|\n",
      "|                      0.0|       0.0|\n",
      "|                      0.0|       0.0|\n",
      "|                      0.0|       0.0|\n",
      "|                      0.0|       0.0|\n",
      "|                      0.0|       0.0|\n",
      "|                      0.0|       0.0|\n",
      "|                      1.0|       0.0|\n",
      "|                      0.0|       0.0|\n",
      "|                      0.0|       0.0|\n",
      "|                      0.0|       0.0|\n",
      "|                      0.0|       0.0|\n",
      "|                      0.0|       0.0|\n",
      "|                      0.0|       0.0|\n",
      "|                      0.0|       0.0|\n",
      "|                      1.0|       0.0|\n",
      "|                      1.0|       0.0|\n",
      "|                      0.0|       0.0|\n",
      "|                      0.0|       0.0|\n",
      "|                      0.0|       0.0|\n",
      "|                      0.0|       0.0|\n",
      "|                      0.0|       0.0|\n",
      "|                      0.0|       0.0|\n",
      "|                      0.0|       0.0|\n",
      "|                      0.0|       0.0|\n",
      "|                      0.0|       0.0|\n",
      "|                      0.0|       0.0|\n",
      "|                      0.0|       0.0|\n",
      "|                      0.0|       0.0|\n",
      "|                      1.0|       0.0|\n",
      "|                      0.0|       0.0|\n",
      "|                      0.0|       0.0|\n",
      "|                      0.0|       0.0|\n",
      "|                      0.0|       0.0|\n",
      "|                      0.0|       0.0|\n",
      "|                      0.0|       0.0|\n",
      "|                      0.0|       0.0|\n",
      "|                      0.0|       0.0|\n",
      "|                      0.0|       0.0|\n",
      "|                      0.0|       0.0|\n",
      "|                      0.0|       0.0|\n",
      "|                      0.0|       0.0|\n",
      "|                      0.0|       0.0|\n",
      "|                      0.0|       0.0|\n",
      "|                      0.0|       0.0|\n",
      "|                      0.0|       0.0|\n",
      "|                      0.0|       0.0|\n",
      "|                      0.0|       0.0|\n",
      "|                      0.0|       0.0|\n",
      "|                      1.0|       0.0|\n",
      "|                      0.0|       0.0|\n",
      "|                      0.0|       0.0|\n",
      "|                      0.0|       0.0|\n",
      "|                      0.0|       0.0|\n",
      "|                      0.0|       0.0|\n",
      "|                      1.0|       0.0|\n",
      "|                      0.0|       0.0|\n",
      "|                      0.0|       0.0|\n",
      "|                      0.0|       0.0|\n",
      "|                      0.0|       0.0|\n",
      "|                      0.0|       0.0|\n",
      "|                      1.0|       0.0|\n",
      "|                      0.0|       0.0|\n",
      "|                      0.0|       0.0|\n",
      "|                      0.0|       0.0|\n",
      "|                      0.0|       1.0|\n",
      "|                      0.0|       0.0|\n",
      "|                      0.0|       0.0|\n",
      "|                      0.0|       0.0|\n",
      "|                      0.0|       0.0|\n",
      "|                      1.0|       0.0|\n",
      "|                      0.0|       0.0|\n",
      "|                      0.0|       0.0|\n",
      "|                      0.0|       0.0|\n",
      "|                      0.0|       0.0|\n",
      "|                      1.0|       0.0|\n",
      "|                      0.0|       0.0|\n",
      "|                      0.0|       0.0|\n",
      "|                      0.0|       0.0|\n",
      "|                      0.0|       0.0|\n",
      "|                      1.0|       0.0|\n",
      "|                      0.0|       0.0|\n",
      "|                      0.0|       0.0|\n",
      "|                      1.0|       0.0|\n",
      "|                      0.0|       0.0|\n",
      "|                      0.0|       0.0|\n",
      "|                      0.0|       0.0|\n",
      "|                      1.0|       0.0|\n",
      "|                      0.0|       0.0|\n",
      "|                      0.0|       0.0|\n",
      "|                      0.0|       0.0|\n",
      "|                      0.0|       0.0|\n",
      "|                      0.0|       0.0|\n",
      "|                      0.0|       0.0|\n",
      "|                      1.0|       1.0|\n",
      "|                      1.0|       0.0|\n",
      "|                      1.0|       0.0|\n",
      "|                      0.0|       0.0|\n",
      "|                      0.0|       0.0|\n",
      "|                      0.0|       0.0|\n",
      "|                      1.0|       0.0|\n",
      "|                      0.0|       0.0|\n",
      "|                      0.0|       0.0|\n",
      "|                      0.0|       0.0|\n",
      "|                      0.0|       0.0|\n",
      "|                      0.0|       0.0|\n",
      "|                      0.0|       0.0|\n",
      "|                      0.0|       0.0|\n",
      "|                      1.0|       1.0|\n",
      "|                      1.0|       0.0|\n",
      "|                      0.0|       0.0|\n",
      "|                      0.0|       0.0|\n",
      "|                      0.0|       0.0|\n",
      "|                      0.0|       0.0|\n",
      "|                      0.0|       0.0|\n",
      "|                      0.0|       0.0|\n",
      "|                      0.0|       0.0|\n",
      "|                      0.0|       0.0|\n",
      "|                      0.0|       0.0|\n",
      "|                      1.0|       0.0|\n",
      "|                      0.0|       0.0|\n",
      "|                      0.0|       0.0|\n",
      "|                      0.0|       0.0|\n",
      "|                      0.0|       0.0|\n",
      "|                      0.0|       0.0|\n",
      "|                      0.0|       0.0|\n",
      "|                      0.0|       0.0|\n",
      "|                      1.0|       0.0|\n",
      "|                      0.0|       0.0|\n",
      "|                      0.0|       0.0|\n",
      "|                      0.0|       0.0|\n",
      "|                      0.0|       1.0|\n",
      "|                      0.0|       0.0|\n",
      "|                      0.0|       0.0|\n",
      "|                      0.0|       0.0|\n",
      "|                      0.0|       0.0|\n",
      "|                      0.0|       0.0|\n",
      "|                      1.0|       0.0|\n",
      "|                      0.0|       0.0|\n",
      "|                      0.0|       0.0|\n",
      "|                      0.0|       0.0|\n",
      "|                      0.0|       0.0|\n",
      "|                      0.0|       0.0|\n",
      "|                      0.0|       0.0|\n",
      "|                      0.0|       0.0|\n",
      "|                      0.0|       0.0|\n",
      "|                      0.0|       0.0|\n",
      "|                      0.0|       0.0|\n",
      "|                      0.0|       0.0|\n",
      "|                      0.0|       0.0|\n",
      "|                      0.0|       0.0|\n",
      "|                      0.0|       0.0|\n",
      "|                      0.0|       0.0|\n",
      "|                      0.0|       0.0|\n",
      "|                      0.0|       0.0|\n",
      "|                      0.0|       0.0|\n",
      "|                      0.0|       0.0|\n",
      "|                      0.0|       0.0|\n",
      "|                      0.0|       0.0|\n",
      "|                      0.0|       0.0|\n",
      "|                      1.0|       1.0|\n",
      "|                      0.0|       0.0|\n",
      "|                      0.0|       0.0|\n",
      "|                      0.0|       0.0|\n",
      "+-------------------------+----------+\n",
      "only showing top 200 rows\n",
      "\n"
     ]
    }
   ],
   "source": [
    "results.select(['UPDATED_CASE_STATUS_index','prediction']).show(200)"
   ]
  },
  {
   "cell_type": "markdown",
   "metadata": {},
   "source": [
    "### Evaluating the model"
   ]
  },
  {
   "cell_type": "code",
   "execution_count": 59,
   "metadata": {},
   "outputs": [],
   "source": [
    "from pyspark.ml.evaluation import MulticlassClassificationEvaluator"
   ]
  },
  {
   "cell_type": "code",
   "execution_count": 60,
   "metadata": {},
   "outputs": [],
   "source": [
    "ACC_evaluator = MulticlassClassificationEvaluator(\n",
    "    labelCol=\"UPDATED_CASE_STATUS_index\", predictionCol=\"prediction\", metricName=\"accuracy\")"
   ]
  },
  {
   "cell_type": "code",
   "execution_count": 61,
   "metadata": {},
   "outputs": [],
   "source": [
    "accuracy = ACC_evaluator.evaluate(results)"
   ]
  },
  {
   "cell_type": "code",
   "execution_count": 62,
   "metadata": {},
   "outputs": [
    {
     "name": "stdout",
     "output_type": "stream",
     "text": [
      "The accuracy of the decision tree classifier is 0.8344155844155844\n"
     ]
    }
   ],
   "source": [
    "print(\"The accuracy of the logistic regression classifier is {}\".format(accuracy))"
   ]
  },
  {
   "cell_type": "code",
   "execution_count": 166,
   "metadata": {},
   "outputs": [],
   "source": [
    "from sklearn.metrics import recall_score,precision_score"
   ]
  },
  {
   "cell_type": "markdown",
   "metadata": {},
   "source": [
    "#### Precision= TP/(TP+FP) Total Predicted Positive\n",
    "#### Recall= TP/(TP+FN) Total Actual Positive"
   ]
  },
  {
   "cell_type": "code",
   "execution_count": 167,
   "metadata": {},
   "outputs": [
    {
     "data": {
      "text/plain": [
       "0.3548387096774194"
      ]
     },
     "execution_count": 167,
     "metadata": {},
     "output_type": "execute_result"
    }
   ],
   "source": [
    "precision = precision_score(y_true, y_pred)\n",
    "print(\"The precision of the logistic regression classifier is {}\".format(precision))"
   ]
  },
  {
   "cell_type": "code",
   "execution_count": 169,
   "metadata": {},
   "outputs": [
    {
     "name": "stdout",
     "output_type": "stream",
     "text": [
      "The recall of the logistic regression classifier is 0.11827956989247312\n"
     ]
    }
   ],
   "source": [
    "recall = recall_score(y_true, y_pred)\n",
    "print(\"The recall of the logistic regression classifier is {}\".format(recall))"
   ]
  },
  {
   "cell_type": "code",
   "execution_count": 63,
   "metadata": {},
   "outputs": [],
   "source": [
    "from sklearn.metrics import confusion_matrix"
   ]
  },
  {
   "cell_type": "code",
   "execution_count": 64,
   "metadata": {},
   "outputs": [
    {
     "name": "stdout",
     "output_type": "stream",
     "text": [
      "Below is the confusion matrix \n",
      " [[503  20]\n",
      " [ 82  11]]\n"
     ]
    }
   ],
   "source": [
    "y_true = results.select(\"UPDATED_CASE_STATUS_index\")\n",
    "y_true = y_true.toPandas()\n",
    "\n",
    "y_pred = results.select(\"prediction\")\n",
    "y_pred = y_pred.toPandas()\n",
    "\n",
    "cnf_matrix = confusion_matrix(y_true, y_pred)\n",
    "print(\"Below is the confusion matrix \\n {}\".format(cnf_matrix))"
   ]
  }
 ],
 "metadata": {
  "kernelspec": {
   "display_name": "Python 3",
   "language": "python",
   "name": "python3"
  },
  "language_info": {
   "codemirror_mode": {
    "name": "ipython",
    "version": 3
   },
   "file_extension": ".py",
   "mimetype": "text/x-python",
   "name": "python",
   "nbconvert_exporter": "python",
   "pygments_lexer": "ipython3",
   "version": "3.7.3"
  },
  "name": "Final",
  "notebookId": 1462944918050778
 },
 "nbformat": 4,
 "nbformat_minor": 1
}
